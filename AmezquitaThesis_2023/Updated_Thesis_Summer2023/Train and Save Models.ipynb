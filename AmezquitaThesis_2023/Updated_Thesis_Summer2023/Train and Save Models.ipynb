{
 "cells": [
  {
   "cell_type": "code",
   "execution_count": 11,
   "id": "ab73f651",
   "metadata": {},
   "outputs": [],
   "source": [
    "from joblib import dump, load\n",
    "import pickle\n",
    "# SKLEARN SVM PORTION\n",
    "\n",
    "from sklearn.metrics import classification_report\n",
    "from sklearn.model_selection import train_test_split\n",
    "from sklearn.pipeline import make_pipeline\n",
    "from sklearn.preprocessing import StandardScaler\n",
    "from sklearn.svm import SVC\n",
    "from sklearn.gaussian_process.kernels import RBF, DotProduct, Matern\n",
    "import numpy as np\n",
    "from IPython.display import clear_output, display, HTML, Javascript"
   ]
  },
  {
   "cell_type": "markdown",
   "id": "53748fa4",
   "metadata": {},
   "source": [
    "# Prepare Data"
   ]
  },
  {
   "cell_type": "code",
   "execution_count": 4,
   "id": "338169f6",
   "metadata": {},
   "outputs": [],
   "source": [
    "path = 'validation_df_072523.pkl'\n",
    "X = pickle.load(open(path,'rb'))# X = X[0:10]\n",
    "# y = X[0:10]['label']\n",
    "y =  X[:]['label']"
   ]
  },
  {
   "cell_type": "code",
   "execution_count": 5,
   "id": "5b7ea82e",
   "metadata": {},
   "outputs": [],
   "source": [
    "# add median time column\n",
    "X['median_time'] = 0 # Initialize all median_time column to 0 for all rows \n",
    "\n",
    "ids = np.unique(X['vid_id']) # Returns all video_id's of the dataset - sorted and without repetitions\n",
    "\n",
    "for id in ids:  # loops through all video_id's\n",
    "    vid_match_idx = X['vid_id'] == id  # boolean expression: T or F 0 - returns all indexes of entries in data with matching id\n",
    "    times = X.loc[vid_match_idx]['time'] # gets the times of all data samples with matching video ID\n",
    "    X.loc[vid_match_idx, 'median_time'] = np.median(times) # Now we take the median of all the times and for all videos with matching video id, \n",
    "                                                        #the median_time column gets populated with the actual median of the time stamp\n",
    "\n",
    "\n",
    "# make new training and test set from X\n",
    "train_idx = (X['time'] <= X['median_time'])  # Here, if the current time for each sample is less than its median_time, then the sample index is put into train_idx\n",
    "test_idx = (X['time'] > X['median_time'])    # Otherwise, if the sample's time is larger than the median_time, then it goes into the test_idx\n",
    "\n",
    "X_train = X.loc[train_idx]  #Here we build the train dataset using the train indexes from the previous section\n",
    "y_train = y.loc[train_idx] # Get the matching y labels and put them into the train\n",
    "X_test = X.loc[test_idx]  # Get samples with matching test idx and put it into a test data set\n",
    "y_test = y.loc[test_idx] # Get y labels with corresponding indexes that match the test_idx"
   ]
  },
  {
   "cell_type": "code",
   "execution_count": 6,
   "id": "e1fcc3c2",
   "metadata": {},
   "outputs": [],
   "source": [
    "#TRAIN DATA\n",
    "\n",
    "train_imgpath = X_train['img_path']\n",
    "train_originallabel = X_train['original_label']\n",
    "train_metadata = X_train['meta_data']\n",
    "train_bboxs = X_train['bboxs']\n",
    "X_train = X_train.drop(['label','original_label', 'img_path','meta_data','bboxs','median_time'], axis=1)\n",
    "\n",
    "\n",
    "#VALIDATION DATA\n",
    "val_imgpath = X_test['img_path']\n",
    "val_originallabel = X_test['original_label']\n",
    "val_metadata = X_test['meta_data']\n",
    "val_bboxs = X_test['bboxs']\n",
    "X_test = X_test.drop(['label','original_label', 'img_path','meta_data','bboxs', 'median_time'], axis=1)\n"
   ]
  },
  {
   "cell_type": "code",
   "execution_count": 7,
   "id": "8522a89b",
   "metadata": {},
   "outputs": [],
   "source": [
    "data = X_test.copy()\n",
    "data['label'] = y_test\n",
    "data['original_label'] = val_originallabel\n",
    "data['img_path'] = val_imgpath\n",
    "data['metadata'] = val_metadata\n",
    "data['bboxs'] = val_bboxs"
   ]
  },
  {
   "cell_type": "markdown",
   "id": "255de150",
   "metadata": {},
   "source": [
    "# Fit and Save Models"
   ]
  },
  {
   "cell_type": "code",
   "execution_count": 8,
   "id": "dfc27272",
   "metadata": {},
   "outputs": [],
   "source": [
    "#### ---------- BASE FUNCTIONS -------------\n",
    "\n",
    "kDP_m1_feat = DotProduct(sigma_0 = 0.4)\n",
    "\n",
    "def m1(X, Y):\n",
    "    '''\n",
    "    m1: \n",
    "    k = 0.8 * kDP_feat(sigma_0 = 0.4)\n",
    "    '''\n",
    "    X1 = X[:,0:256]\n",
    "    Y1 = Y[:,0:256]\n",
    "    gram_matrix = 0.8 * kDP_m1_feat(X1,Y1)\n",
    "    return gram_matrix\n",
    "\n",
    "\n",
    "'''\n",
    "m2:\n",
    "k = 2 * kRBF_feat(lengthscale = 10)\n",
    "'''\n",
    "kRBF_m2_feat = RBF(length_scale = 10)\n",
    "\n",
    "def m2(X,Y):\n",
    "    X1 = X[:,0:256]\n",
    "    Y1 = Y[:,0:256]\n",
    "    gram_matrix = 2 * kRBF_m2_feat(X1,Y1)\n",
    "    return gram_matrix\n"
   ]
  },
  {
   "cell_type": "code",
   "execution_count": 9,
   "id": "3c84c970",
   "metadata": {},
   "outputs": [
    {
     "data": {
      "application/javascript": [
       "\n",
       "  var msg = new SpeechSynthesisUtterance();\n",
       "  msg.text = \"Model done fitting.\";\n",
       "  window.speechSynthesis.speak(msg);\n"
      ],
      "text/plain": [
       "<IPython.core.display.Javascript object>"
      ]
     },
     "metadata": {},
     "output_type": "display_data"
    }
   ],
   "source": [
    "svm1 = make_pipeline(StandardScaler(), SVC(kernel=m1, C = 0.08))\n",
    "svm1.fit(X_train, y_train)\n",
    "\n",
    "display(Javascript(\"\"\"\n",
    "  var msg = new SpeechSynthesisUtterance();\n",
    "  msg.text = \"Model done fitting.\";\n",
    "  window.speechSynthesis.speak(msg);\n",
    "\"\"\"))"
   ]
  },
  {
   "cell_type": "code",
   "execution_count": 14,
   "id": "37c03188",
   "metadata": {},
   "outputs": [
    {
     "data": {
      "text/plain": [
       "['./saved_models/svm_m1.joblib']"
      ]
     },
     "execution_count": 14,
     "metadata": {},
     "output_type": "execute_result"
    }
   ],
   "source": [
    "# Save the fitted SVM model to a file using joblib\n",
    "dump(svm1, './saved_models/svm_m1.joblib')"
   ]
  },
  {
   "cell_type": "code",
   "execution_count": 15,
   "id": "d2d91a57",
   "metadata": {},
   "outputs": [
    {
     "data": {
      "application/javascript": [
       "\n",
       "  var msg = new SpeechSynthesisUtterance();\n",
       "  msg.text = \"Model done fitting.\";\n",
       "  window.speechSynthesis.speak(msg);\n"
      ],
      "text/plain": [
       "<IPython.core.display.Javascript object>"
      ]
     },
     "metadata": {},
     "output_type": "display_data"
    }
   ],
   "source": [
    "svm2 = make_pipeline(StandardScaler(), SVC(kernel=m2, C = 0.2))\n",
    "svm2.fit(X_train, y_train)\n",
    "\n",
    "\n",
    "display(Javascript(\"\"\"\n",
    "  var msg = new SpeechSynthesisUtterance();\n",
    "  msg.text = \"Model done fitting.\";\n",
    "  window.speechSynthesis.speak(msg);\n",
    "\"\"\"))"
   ]
  },
  {
   "cell_type": "code",
   "execution_count": 16,
   "id": "44df3653",
   "metadata": {},
   "outputs": [
    {
     "data": {
      "text/plain": [
       "['./saved_models/svm_m2.joblib']"
      ]
     },
     "execution_count": 16,
     "metadata": {},
     "output_type": "execute_result"
    }
   ],
   "source": [
    "# Save the fitted SVM model to a file using joblib\n",
    "dump(svm2, './saved_models/svm_m2.joblib')"
   ]
  },
  {
   "cell_type": "code",
   "execution_count": 17,
   "id": "eaff3901",
   "metadata": {},
   "outputs": [],
   "source": [
    "#### ---------- BASE FUNCTIONS -------------\n",
    "\n",
    "\n",
    "'''\n",
    "m3: \n",
    "C = 0.16\n",
    "k = 0.5 * kDP_feat(sigma_0 = 0.9) + 3 * kRBF_time(lengthscale = 15) * kRBF_vidid(lengthscale = 1e-7)\n",
    "'''\n",
    "\n",
    "kDP_m3_feat = DotProduct(sigma_0 = 0.9)\n",
    "kRBF_m3_time = RBF(length_scale = 15)\n",
    "kRBF_m3_vidid = RBF(length_scale = 1e-7)\n",
    "\n",
    "def m3(X, Y):\n",
    "\n",
    "    X1 = X[:,0:256]\n",
    "    Y1 = Y[:,0:256]\n",
    "    Xt = np.reshape(X[:,256],(-1,1))\n",
    "    Yt = np.reshape(Y[:,256],(-1,1))\n",
    "    Xv = np.reshape(X[:,257],(-1,1))\n",
    "    Yv = np.reshape(Y[:,257],(-1,1))\n",
    "    gram_matrix = 0.5 * kDP_m3_feat(X1,Y1) + 3 * kRBF_m3_time(Xt,Yt) * kRBF_m3_vidid(Xv,Yv)\n",
    "    return gram_matrix\n",
    "\n",
    "\n",
    "'''\n",
    "m4: \n",
    "C = 0.2\n",
    "k = 3 * kRBF_feat(lengthscale = 10) + 1 * kRBF_time(lengthscale = 10) * kRBF_vidid(lengthscale = 1e-7)\n",
    "'''\n",
    "\n",
    "kRBF_m4_feat = RBF(length_scale = 10)\n",
    "kRBF_m4_time = RBF(length_scale = 10)\n",
    "kRBF_m4_vidid = RBF(length_scale = 1e-7)\n",
    "\n",
    "def m4(X, Y):\n",
    "\n",
    "    X1 = X[:,0:256]\n",
    "    Y1 = Y[:,0:256]\n",
    "    Xt = np.reshape(X[:,256],(-1,1))\n",
    "    Yt = np.reshape(Y[:,256],(-1,1))\n",
    "    Xv = np.reshape(X[:,257],(-1,1))\n",
    "    Yv = np.reshape(Y[:,257],(-1,1))\n",
    "    \n",
    "    gram_matrix = 3 * kRBF_m4_feat(X1,Y1) + 1 * kRBF_m4_time(Xt,Yt) * kRBF_m4_vidid(Xv,Yv)\n",
    "    return gram_matrix\n",
    "\n",
    "\n",
    "'''\n",
    "m5:\n",
    "C = 0.03\n",
    "k = 0.8 * kDP_feat(sigma_0 = 0.9) + 1 * kDP_feat(sigma_0 = 0.9) * kRBF_time(lengthscale = 30) * kRBF_vidid(lengthscale = 1e-7)\n",
    "'''\n",
    "\n",
    "kDP_m5_feat = DotProduct(sigma_0 = 0.9)\n",
    "kRBF_m5_time = RBF(length_scale = 30)\n",
    "kRBF_m5_vidid = RBF(length_scale = 1e-7)\n",
    "\n",
    "def m5(X, Y):\n",
    "\n",
    "    X1 = X[:,0:256]\n",
    "    Y1 = Y[:,0:256]\n",
    "    Xt = np.reshape(X[:,256],(-1,1))\n",
    "    Yt = np.reshape(Y[:,256],(-1,1))\n",
    "    Xv = np.reshape(X[:,257],(-1,1))\n",
    "    Yv = np.reshape(Y[:,257],(-1,1))\n",
    "    \n",
    "    gram_matrix = 0.8 * kDP_m5_feat(X1,Y1) + 1 * kDP_m5_feat(X1,Y1) * kRBF_m5_time(Xt,Yt) * kRBF_m5_vidid(Xv,Yv)\n",
    "\n",
    "    return gram_matrix\n",
    "\n",
    "'''\n",
    "m6:\n",
    "C = 0.1\n",
    "c1 = 1.5 * kRBF_feat(lengthscale = 2.0) + 1.0 * kDP_feat(sigma_0 = 1.0) * kRBF_time(lengthscale = 25) * kRBF_vidid(lengthscale = 1e-7)\n",
    "'''\n",
    "\n",
    "kRBF_m6_feat = RBF(length_scale = 2.0)\n",
    "kDP_m6_feat = DotProduct(sigma_0 = 1.0)\n",
    "kRBF_m6_time = RBF(length_scale = 25)\n",
    "kRBF_m6_vidid = RBF(length_scale = 1e-7)\n",
    "\n",
    "def m6(X, Y):\n",
    "\n",
    "    X1 = X[:,0:256]\n",
    "    Y1 = Y[:,0:256]\n",
    "    Xt = np.reshape(X[:,256],(-1,1))\n",
    "    Yt = np.reshape(Y[:,256],(-1,1))\n",
    "    Xv = np.reshape(X[:,257],(-1,1))\n",
    "    Yv = np.reshape(Y[:,257],(-1,1))\n",
    "    \n",
    "    gram_matrix = 1.5 * kRBF_m6_feat(X1,Y1) + 1.0 * kDP_m6_feat(X1,Y1) * kRBF_m6_time(Xt,Yt) * kRBF_m6_vidid(Xv,Yv)\n",
    "\n",
    "    return gram_matrix\n"
   ]
  },
  {
   "cell_type": "code",
   "execution_count": 18,
   "id": "7451378e",
   "metadata": {},
   "outputs": [
    {
     "data": {
      "application/javascript": [
       "\n",
       "  var msg = new SpeechSynthesisUtterance();\n",
       "  msg.text = \"Model done fitting.\";\n",
       "  window.speechSynthesis.speak(msg);\n"
      ],
      "text/plain": [
       "<IPython.core.display.Javascript object>"
      ]
     },
     "metadata": {},
     "output_type": "display_data"
    }
   ],
   "source": [
    "'''\n",
    "m3: \n",
    "C = 0.16\n",
    "'''\n",
    "svm3 = make_pipeline(StandardScaler(), SVC(kernel=m3, C = 0.16))\n",
    "svm3.fit(X_train, y_train)\n",
    "\n",
    "display(Javascript(\"\"\"\n",
    "  var msg = new SpeechSynthesisUtterance();\n",
    "  msg.text = \"Model done fitting.\";\n",
    "  window.speechSynthesis.speak(msg);\n",
    "\"\"\"))"
   ]
  },
  {
   "cell_type": "code",
   "execution_count": 19,
   "id": "1668e047",
   "metadata": {},
   "outputs": [
    {
     "data": {
      "text/plain": [
       "['./saved_models/svm_m3.joblib']"
      ]
     },
     "execution_count": 19,
     "metadata": {},
     "output_type": "execute_result"
    }
   ],
   "source": [
    "# Save the fitted SVM model to a file using joblib\n",
    "dump(svm3, './saved_models/svm_m3.joblib')"
   ]
  },
  {
   "cell_type": "code",
   "execution_count": 20,
   "id": "7391adaf",
   "metadata": {},
   "outputs": [
    {
     "data": {
      "application/javascript": [
       "\n",
       "  var msg = new SpeechSynthesisUtterance();\n",
       "  msg.text = \"Model done fitting.\";\n",
       "  window.speechSynthesis.speak(msg);\n"
      ],
      "text/plain": [
       "<IPython.core.display.Javascript object>"
      ]
     },
     "metadata": {},
     "output_type": "display_data"
    }
   ],
   "source": [
    "'''\n",
    "m4: \n",
    "C = 0.2\n",
    "'''\n",
    "\n",
    "svm4 = make_pipeline(StandardScaler(), SVC(kernel=m4,C = 0.2))\n",
    "svm4.fit(X_train, y_train)\n",
    "\n",
    "display(Javascript(\"\"\"\n",
    "  var msg = new SpeechSynthesisUtterance();\n",
    "  msg.text = \"Model done fitting.\";\n",
    "  window.speechSynthesis.speak(msg);\n",
    "\"\"\"))"
   ]
  },
  {
   "cell_type": "code",
   "execution_count": 26,
   "id": "c36215d3",
   "metadata": {},
   "outputs": [
    {
     "data": {
      "text/plain": [
       "['./saved_models/svm_m4.joblib']"
      ]
     },
     "execution_count": 26,
     "metadata": {},
     "output_type": "execute_result"
    }
   ],
   "source": [
    "# Save the fitted SVM model to a file using joblib\n",
    "dump(svm4,'./saved_models/svm_m4.joblib')"
   ]
  },
  {
   "cell_type": "code",
   "execution_count": 23,
   "id": "87705341",
   "metadata": {},
   "outputs": [
    {
     "data": {
      "application/javascript": [
       "\n",
       "  var msg = new SpeechSynthesisUtterance();\n",
       "  msg.text = \"Model done fitting.\";\n",
       "  window.speechSynthesis.speak(msg);\n"
      ],
      "text/plain": [
       "<IPython.core.display.Javascript object>"
      ]
     },
     "metadata": {},
     "output_type": "display_data"
    }
   ],
   "source": [
    "svm5 = make_pipeline(StandardScaler(), SVC(kernel=m5, C = 0.03))\n",
    "svm5.fit(X_train, y_train)\n",
    "\n",
    "display(Javascript(\"\"\"\n",
    "  var msg = new SpeechSynthesisUtterance();\n",
    "  msg.text = \"Model done fitting.\";\n",
    "  window.speechSynthesis.speak(msg);\n",
    "\"\"\"))"
   ]
  },
  {
   "cell_type": "code",
   "execution_count": 27,
   "id": "0d6beec2",
   "metadata": {},
   "outputs": [
    {
     "data": {
      "text/plain": [
       "['./saved_models/svm_m5.joblib']"
      ]
     },
     "execution_count": 27,
     "metadata": {},
     "output_type": "execute_result"
    }
   ],
   "source": [
    "# Save the fitted SVM model to a file using joblib\n",
    "dump(svm5,'./saved_models/svm_m5.joblib')"
   ]
  },
  {
   "cell_type": "code",
   "execution_count": 25,
   "id": "57061c59",
   "metadata": {},
   "outputs": [
    {
     "data": {
      "application/javascript": [
       "\n",
       "  var msg = new SpeechSynthesisUtterance();\n",
       "  msg.text = \"Model done fitting.\";\n",
       "  window.speechSynthesis.speak(msg);\n"
      ],
      "text/plain": [
       "<IPython.core.display.Javascript object>"
      ]
     },
     "metadata": {},
     "output_type": "display_data"
    }
   ],
   "source": [
    "svm6 = make_pipeline(StandardScaler(), SVC(kernel=m6, C = 0.1))\n",
    "svm6.fit(X_train, y_train)\n",
    "\n",
    "display(Javascript(\"\"\"\n",
    "  var msg = new # Save the fitted SVM model to a file using joblib\n",
    "dump(svm5,'./saved_models/svm_m5joblib')SpeechSynthesisUtterance();\n",
    "  msg.text = \"Model done fitting.\";\n",
    "  window.speechSynthesis.speak(msg);\n",
    "\"\"\"))"
   ]
  },
  {
   "cell_type": "code",
   "execution_count": 28,
   "id": "fedf286f",
   "metadata": {},
   "outputs": [
    {
     "data": {
      "text/plain": [
       "['./saved_models/svm_m6.joblib']"
      ]
     },
     "execution_count": 28,
     "metadata": {},
     "output_type": "execute_result"
    }
   ],
   "source": [
    "# Save the fitted SVM model to a file using joblib\n",
    "dump(svm6,'./saved_models/svm_m6.joblib')"
   ]
  },
  {
   "cell_type": "code",
   "execution_count": null,
   "id": "3d112627",
   "metadata": {},
   "outputs": [],
   "source": []
  }
 ],
 "metadata": {
  "kernelspec": {
   "display_name": "Python 3 (ipykernel)",
   "language": "python",
   "name": "python3"
  },
  "language_info": {
   "codemirror_mode": {
    "name": "ipython",
    "version": 3
   },
   "file_extension": ".py",
   "mimetype": "text/x-python",
   "name": "python",
   "nbconvert_exporter": "python",
   "pygments_lexer": "ipython3",
   "version": "3.8.16"
  },
  "varInspector": {
   "cols": {
    "lenName": 16,
    "lenType": 16,
    "lenVar": 40
   },
   "kernels_config": {
    "python": {
     "delete_cmd_postfix": "",
     "delete_cmd_prefix": "del ",
     "library": "var_list.py",
     "varRefreshCmd": "print(var_dic_list())"
    },
    "r": {
     "delete_cmd_postfix": ") ",
     "delete_cmd_prefix": "rm(",
     "library": "var_list.r",
     "varRefreshCmd": "cat(var_dic_list()) "
    }
   },
   "types_to_exclude": [
    "module",
    "function",
    "builtin_function_or_method",
    "instance",
    "_Feature"
   ],
   "window_display": false
  }
 },
 "nbformat": 4,
 "nbformat_minor": 5
}
