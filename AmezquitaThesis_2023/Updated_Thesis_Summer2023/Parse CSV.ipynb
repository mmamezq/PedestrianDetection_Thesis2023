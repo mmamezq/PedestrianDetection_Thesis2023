{
 "cells": [
  {
   "cell_type": "code",
   "execution_count": 2,
   "id": "2ca3f54f",
   "metadata": {},
   "outputs": [],
   "source": [
    "import pandas as pd\n",
    "import pickle\n",
    "# SKLEARN SVM PORTION\n",
    "\n",
    "from sklearn.metrics import classification_report\n",
    "from sklearn.model_selection import train_test_split\n",
    "from sklearn.pipeline import make_pipeline\n",
    "from sklearn.preprocessing import StandardScaler\n",
    "from sklearn.svm import SVC\n",
    "from sklearn.gaussian_process.kernels import RBF, DotProduct, Matern\n",
    "import numpy as np\n",
    "from IPython.display import clear_output, display, HTML, Javascript"
   ]
  },
  {
   "cell_type": "code",
   "execution_count": 3,
   "id": "9701efba",
   "metadata": {},
   "outputs": [],
   "source": [
    "df = pd.read_csv('ResultsData_080623.csv') \n",
    "df = df.rename(columns={\"Unnamed: 0\": \"Index\"})"
   ]
  },
  {
   "cell_type": "code",
   "execution_count": 5,
   "id": "c54a150a",
   "metadata": {},
   "outputs": [
    {
     "data": {
      "text/html": [
       "<div>\n",
       "<style scoped>\n",
       "    .dataframe tbody tr th:only-of-type {\n",
       "        vertical-align: middle;\n",
       "    }\n",
       "\n",
       "    .dataframe tbody tr th {\n",
       "        vertical-align: top;\n",
       "    }\n",
       "\n",
       "    .dataframe thead th {\n",
       "        text-align: right;\n",
       "    }\n",
       "</style>\n",
       "<table border=\"1\" class=\"dataframe\">\n",
       "  <thead>\n",
       "    <tr style=\"text-align: right;\">\n",
       "      <th></th>\n",
       "      <th>Index</th>\n",
       "      <th>x0</th>\n",
       "      <th>x1</th>\n",
       "      <th>x2</th>\n",
       "      <th>x3</th>\n",
       "      <th>x4</th>\n",
       "      <th>x5</th>\n",
       "      <th>x6</th>\n",
       "      <th>x7</th>\n",
       "      <th>x8</th>\n",
       "      <th>...</th>\n",
       "      <th>original_label</th>\n",
       "      <th>img_path</th>\n",
       "      <th>metadata</th>\n",
       "      <th>bboxs</th>\n",
       "      <th>m1</th>\n",
       "      <th>m2</th>\n",
       "      <th>m3</th>\n",
       "      <th>m4</th>\n",
       "      <th>m5</th>\n",
       "      <th>m6</th>\n",
       "    </tr>\n",
       "  </thead>\n",
       "  <tbody>\n",
       "    <tr>\n",
       "      <th>0</th>\n",
       "      <td>40</td>\n",
       "      <td>1.279082</td>\n",
       "      <td>2.163162</td>\n",
       "      <td>1.387326</td>\n",
       "      <td>1.021025</td>\n",
       "      <td>2.144935</td>\n",
       "      <td>1.011913</td>\n",
       "      <td>2.294550</td>\n",
       "      <td>2.627403</td>\n",
       "      <td>4.511601</td>\n",
       "      <td>...</td>\n",
       "      <td>person</td>\n",
       "      <td>../../data/val/YFCC100M/v_9c29a4c4e03790d16925...</td>\n",
       "      <td>{'segmentation': [[224, 2, 640, 2, 640, 480, 2...</td>\n",
       "      <td>(224.0, 2.0, 640.0, 480.0)</td>\n",
       "      <td>person</td>\n",
       "      <td>person</td>\n",
       "      <td>person</td>\n",
       "      <td>person</td>\n",
       "      <td>person</td>\n",
       "      <td>person</td>\n",
       "    </tr>\n",
       "    <tr>\n",
       "      <th>1</th>\n",
       "      <td>41</td>\n",
       "      <td>0.299634</td>\n",
       "      <td>0.173886</td>\n",
       "      <td>0.229507</td>\n",
       "      <td>0.412398</td>\n",
       "      <td>1.746415</td>\n",
       "      <td>0.655757</td>\n",
       "      <td>0.477212</td>\n",
       "      <td>0.823943</td>\n",
       "      <td>1.453786</td>\n",
       "      <td>...</td>\n",
       "      <td>spatula</td>\n",
       "      <td>../../data/val/YFCC100M/v_9c29a4c4e03790d16925...</td>\n",
       "      <td>{'segmentation': [[233, 203, 269, 203, 269, 44...</td>\n",
       "      <td>(233.0, 203.0, 269.0, 446.0)</td>\n",
       "      <td>person</td>\n",
       "      <td>person</td>\n",
       "      <td>not_person</td>\n",
       "      <td>not_person</td>\n",
       "      <td>not_person</td>\n",
       "      <td>not_person</td>\n",
       "    </tr>\n",
       "    <tr>\n",
       "      <th>2</th>\n",
       "      <td>42</td>\n",
       "      <td>1.281126</td>\n",
       "      <td>1.919473</td>\n",
       "      <td>0.949052</td>\n",
       "      <td>0.948605</td>\n",
       "      <td>1.785091</td>\n",
       "      <td>1.158464</td>\n",
       "      <td>2.384823</td>\n",
       "      <td>2.453316</td>\n",
       "      <td>4.210309</td>\n",
       "      <td>...</td>\n",
       "      <td>person</td>\n",
       "      <td>../../data/val/YFCC100M/v_9c29a4c4e03790d16925...</td>\n",
       "      <td>{'segmentation': [[205, 2, 640, 2, 640, 480, 2...</td>\n",
       "      <td>(205.0, 2.0, 640.0, 480.0)</td>\n",
       "      <td>person</td>\n",
       "      <td>person</td>\n",
       "      <td>person</td>\n",
       "      <td>person</td>\n",
       "      <td>person</td>\n",
       "      <td>person</td>\n",
       "    </tr>\n",
       "    <tr>\n",
       "      <th>3</th>\n",
       "      <td>43</td>\n",
       "      <td>0.239554</td>\n",
       "      <td>0.143336</td>\n",
       "      <td>0.363114</td>\n",
       "      <td>0.386323</td>\n",
       "      <td>1.561549</td>\n",
       "      <td>0.498190</td>\n",
       "      <td>0.261052</td>\n",
       "      <td>0.869688</td>\n",
       "      <td>1.246313</td>\n",
       "      <td>...</td>\n",
       "      <td>spatula</td>\n",
       "      <td>../../data/val/YFCC100M/v_9c29a4c4e03790d16925...</td>\n",
       "      <td>{'segmentation': [[213, 189, 259, 189, 259, 42...</td>\n",
       "      <td>(213.0, 189.0, 259.0, 429.0)</td>\n",
       "      <td>person</td>\n",
       "      <td>person</td>\n",
       "      <td>not_person</td>\n",
       "      <td>not_person</td>\n",
       "      <td>not_person</td>\n",
       "      <td>not_person</td>\n",
       "    </tr>\n",
       "    <tr>\n",
       "      <th>4</th>\n",
       "      <td>44</td>\n",
       "      <td>0.906112</td>\n",
       "      <td>2.327980</td>\n",
       "      <td>1.081830</td>\n",
       "      <td>0.876156</td>\n",
       "      <td>1.779853</td>\n",
       "      <td>0.932696</td>\n",
       "      <td>2.281990</td>\n",
       "      <td>2.790590</td>\n",
       "      <td>4.259732</td>\n",
       "      <td>...</td>\n",
       "      <td>person</td>\n",
       "      <td>../../data/val/YFCC100M/v_9c29a4c4e03790d16925...</td>\n",
       "      <td>{'segmentation': [[226, 2, 640, 2, 640, 480, 2...</td>\n",
       "      <td>(226.0, 2.0, 640.0, 480.0)</td>\n",
       "      <td>person</td>\n",
       "      <td>person</td>\n",
       "      <td>person</td>\n",
       "      <td>person</td>\n",
       "      <td>person</td>\n",
       "      <td>person</td>\n",
       "    </tr>\n",
       "  </tbody>\n",
       "</table>\n",
       "<p>5 rows × 270 columns</p>\n",
       "</div>"
      ],
      "text/plain": [
       "   Index        x0        x1        x2        x3        x4        x5  \\\n",
       "0     40  1.279082  2.163162  1.387326  1.021025  2.144935  1.011913   \n",
       "1     41  0.299634  0.173886  0.229507  0.412398  1.746415  0.655757   \n",
       "2     42  1.281126  1.919473  0.949052  0.948605  1.785091  1.158464   \n",
       "3     43  0.239554  0.143336  0.363114  0.386323  1.561549  0.498190   \n",
       "4     44  0.906112  2.327980  1.081830  0.876156  1.779853  0.932696   \n",
       "\n",
       "         x6        x7        x8  ...  original_label  \\\n",
       "0  2.294550  2.627403  4.511601  ...          person   \n",
       "1  0.477212  0.823943  1.453786  ...         spatula   \n",
       "2  2.384823  2.453316  4.210309  ...          person   \n",
       "3  0.261052  0.869688  1.246313  ...         spatula   \n",
       "4  2.281990  2.790590  4.259732  ...          person   \n",
       "\n",
       "                                            img_path  \\\n",
       "0  ../../data/val/YFCC100M/v_9c29a4c4e03790d16925...   \n",
       "1  ../../data/val/YFCC100M/v_9c29a4c4e03790d16925...   \n",
       "2  ../../data/val/YFCC100M/v_9c29a4c4e03790d16925...   \n",
       "3  ../../data/val/YFCC100M/v_9c29a4c4e03790d16925...   \n",
       "4  ../../data/val/YFCC100M/v_9c29a4c4e03790d16925...   \n",
       "\n",
       "                                            metadata  \\\n",
       "0  {'segmentation': [[224, 2, 640, 2, 640, 480, 2...   \n",
       "1  {'segmentation': [[233, 203, 269, 203, 269, 44...   \n",
       "2  {'segmentation': [[205, 2, 640, 2, 640, 480, 2...   \n",
       "3  {'segmentation': [[213, 189, 259, 189, 259, 42...   \n",
       "4  {'segmentation': [[226, 2, 640, 2, 640, 480, 2...   \n",
       "\n",
       "                          bboxs      m1      m2          m3          m4  \\\n",
       "0    (224.0, 2.0, 640.0, 480.0)  person  person      person      person   \n",
       "1  (233.0, 203.0, 269.0, 446.0)  person  person  not_person  not_person   \n",
       "2    (205.0, 2.0, 640.0, 480.0)  person  person      person      person   \n",
       "3  (213.0, 189.0, 259.0, 429.0)  person  person  not_person  not_person   \n",
       "4    (226.0, 2.0, 640.0, 480.0)  person  person      person      person   \n",
       "\n",
       "           m5          m6  \n",
       "0      person      person  \n",
       "1  not_person  not_person  \n",
       "2      person      person  \n",
       "3  not_person  not_person  \n",
       "4      person      person  \n",
       "\n",
       "[5 rows x 270 columns]"
      ]
     },
     "execution_count": 5,
     "metadata": {},
     "output_type": "execute_result"
    }
   ],
   "source": [
    "df.head()"
   ]
  },
  {
   "cell_type": "markdown",
   "id": "d542a873",
   "metadata": {},
   "source": [
    "# Confusion Matrix"
   ]
  },
  {
   "cell_type": "code",
   "execution_count": 6,
   "id": "be163c86",
   "metadata": {},
   "outputs": [],
   "source": [
    "from matplotlib import pyplot as plt \n",
    "import seaborn as sns\n",
    "from sklearn.metrics import confusion_matrix\n",
    "%matplotlib inline"
   ]
  },
  {
   "cell_type": "markdown",
   "id": "3feefb66",
   "metadata": {},
   "source": [
    "## M1"
   ]
  },
  {
   "cell_type": "code",
   "execution_count": 7,
   "id": "065b6223",
   "metadata": {},
   "outputs": [],
   "source": [
    "m1 = df['m1']\n",
    "y = df['label']"
   ]
  },
  {
   "cell_type": "code",
   "execution_count": 8,
   "id": "5a8b0deb",
   "metadata": {},
   "outputs": [
    {
     "name": "stdout",
     "output_type": "stream",
     "text": [
      "              precision    recall  f1-score   support\n",
      "\n",
      "  not_person       0.88      0.91      0.89     18142\n",
      "      person       0.82      0.77      0.79      9790\n",
      "\n",
      "    accuracy                           0.86     27932\n",
      "   macro avg       0.85      0.84      0.84     27932\n",
      "weighted avg       0.86      0.86      0.86     27932\n",
      "\n"
     ]
    }
   ],
   "source": [
    "print(classification_report(y, m1))"
   ]
  },
  {
   "cell_type": "code",
   "execution_count": 12,
   "id": "c6e0bb08",
   "metadata": {},
   "outputs": [
    {
     "name": "stdout",
     "output_type": "stream",
     "text": [
      "{'not_person': {'precision': 0.8806401541508323, 'recall': 0.9069011134384302, 'f1-score': 0.8935777325186695, 'support': 18142}, 'person': {'precision': 0.817385663314953, 'recall': 0.7722165474974464, 'f1-score': 0.794159357109092, 'support': 9790}, 'accuracy': 0.8596949735070887, 'macro avg': {'precision': 0.8490129087328926, 'recall': 0.8395588304679382, 'f1-score': 0.8438685448138807, 'support': 27932}, 'weighted avg': {'precision': 0.8584698310345765, 'recall': 0.8596949735070887, 'f1-score': 0.858732182781459, 'support': 27932}}\n"
     ]
    }
   ],
   "source": [
    "report = classification_report(y, m1, output_dict=True)\n",
    "print(report)"
   ]
  },
  {
   "cell_type": "code",
   "execution_count": 11,
   "id": "49b7c1c4",
   "metadata": {},
   "outputs": [
    {
     "name": "stdout",
     "output_type": "stream",
     "text": [
      "0.8596949735070887\n"
     ]
    }
   ],
   "source": [
    "print('accuracy',report['accuracy'])"
   ]
  },
  {
   "cell_type": "code",
   "execution_count": 7,
   "id": "4a82b7e3",
   "metadata": {},
   "outputs": [
    {
     "data": {
      "image/png": "[encoded data removed]",
      "text/plain": [
       "<Figure size 600x600 with 2 Axes>"
      ]
     },
     "metadata": {},
     "output_type": "display_data"
    }
   ],
   "source": [
    "cm = confusion_matrix(y, m1)\n",
    "# Define the class labels\n",
    "class_labels = [\"Not Pedestrian\", \"Pedestrian\"]\n",
    "\n",
    "# Plot the confusion matrix\n",
    "plt.figure(figsize=(6, 6))\n",
    "sns.heatmap(cm, annot=True, fmt=\"d\", cmap=\"Reds\", xticklabels=class_labels, yticklabels=class_labels)\n",
    "\n",
    "# Add labels, title, and axis ticks\n",
    "plt.xlabel(\"Predicted Label\")\n",
    "plt.ylabel(\"True Label\")\n",
    "plt.title(\"Confusion Matrix for M1\")\n",
    "plt.xticks(np.arange(len(class_labels)) + 0.5, class_labels)\n",
    "plt.yticks(np.arange(len(class_labels)) + 0.5, class_labels)\n",
    "\n",
    "# Show the plot\n",
    "plt.show()"
   ]
  },
  {
   "cell_type": "markdown",
   "id": "22773fc8",
   "metadata": {},
   "source": [
    "## M2"
   ]
  },
  {
   "cell_type": "code",
   "execution_count": 14,
   "id": "712b7362",
   "metadata": {},
   "outputs": [],
   "source": [
    "m2 = df['m2']"
   ]
  },
  {
   "cell_type": "code",
   "execution_count": 15,
   "id": "c169ed6e",
   "metadata": {},
   "outputs": [
    {
     "name": "stdout",
     "output_type": "stream",
     "text": [
      "              precision    recall  f1-score   support\n",
      "\n",
      "  not_person       0.90      0.91      0.90     18142\n",
      "      person       0.83      0.81      0.82      9790\n",
      "\n",
      "    accuracy                           0.87     27932\n",
      "   macro avg       0.86      0.86      0.86     27932\n",
      "weighted avg       0.87      0.87      0.87     27932\n",
      "\n"
     ]
    }
   ],
   "source": [
    "print(classification_report(y, m2))"
   ]
  },
  {
   "cell_type": "code",
   "execution_count": 16,
   "id": "a3ec2474",
   "metadata": {},
   "outputs": [
    {
     "name": "stdout",
     "output_type": "stream",
     "text": [
      "{'not_person': {'precision': 0.8977562883685555, 'recall': 0.9108698048726711, 'f1-score': 0.9042655065802074, 'support': 18142}, 'person': {'precision': 0.8302362204724409, 'recall': 0.8077630234933606, 'f1-score': 0.8188454568987833, 'support': 9790}, 'accuracy': 0.8747314907632823, 'macro avg': {'precision': 0.8639962544204982, 'recall': 0.8593164141830159, 'f1-score': 0.8615554817394954, 'support': 27932}, 'weighted avg': {'precision': 0.8740909058430306, 'recall': 0.8747314907632823, 'f1-score': 0.8743262868186027, 'support': 27932}}\n"
     ]
    }
   ],
   "source": [
    "report = classification_report(y, m2, output_dict=True)\n",
    "print(report)"
   ]
  },
  {
   "cell_type": "code",
   "execution_count": 10,
   "id": "f5be574b",
   "metadata": {},
   "outputs": [
    {
     "data": {
      "image/png": "[encoded data removed]",
      "text/plain": [
       "<Figure size 600x600 with 2 Axes>"
      ]
     },
     "metadata": {},
     "output_type": "display_data"
    }
   ],
   "source": [
    "cm = confusion_matrix(y, m2)\n",
    "# Define the class labels\n",
    "class_labels = [\"Not Pedestrian\", \"Pedestrian\"]\n",
    "\n",
    "# Plot the confusion matrix\n",
    "plt.figure(figsize=(6, 6))\n",
    "sns.heatmap(cm, annot=True, fmt=\"d\", cmap=\"Reds\", xticklabels=class_labels, yticklabels=class_labels)\n",
    "\n",
    "# Add labels, title, and axis ticks\n",
    "plt.xlabel(\"Predicted Label\")\n",
    "plt.ylabel(\"True Label\")\n",
    "plt.title(\"Confusion Matrix for M1\")\n",
    "plt.xticks(np.arange(len(class_labels)) + 0.5, class_labels)\n",
    "plt.yticks(np.arange(len(class_labels)) + 0.5, class_labels)\n",
    "\n",
    "# Show the plot\n",
    "plt.show()"
   ]
  },
  {
   "cell_type": "markdown",
   "id": "ce17b80b",
   "metadata": {},
   "source": [
    "## M3"
   ]
  },
  {
   "cell_type": "code",
   "execution_count": 17,
   "id": "80fb73ee",
   "metadata": {},
   "outputs": [],
   "source": [
    "m3 = df['m3']"
   ]
  },
  {
   "cell_type": "code",
   "execution_count": 18,
   "id": "a4330af8",
   "metadata": {},
   "outputs": [
    {
     "name": "stdout",
     "output_type": "stream",
     "text": [
      "              precision    recall  f1-score   support\n",
      "\n",
      "  not_person       0.94      0.95      0.94     18142\n",
      "      person       0.90      0.89      0.90      9790\n",
      "\n",
      "    accuracy                           0.93     27932\n",
      "   macro avg       0.92      0.92      0.92     27932\n",
      "weighted avg       0.93      0.93      0.93     27932\n",
      "\n"
     ]
    }
   ],
   "source": [
    "print(classification_report(y, m3))"
   ]
  },
  {
   "cell_type": "code",
   "execution_count": 19,
   "id": "e2bd1091",
   "metadata": {},
   "outputs": [
    {
     "name": "stdout",
     "output_type": "stream",
     "text": [
      "{'not_person': {'precision': 0.9403948159895007, 'recall': 0.947910924925587, 'f1-score': 0.9441379121029948, 'support': 18142}, 'person': {'precision': 0.9020217729393468, 'recall': 0.8886618998978549, 'f1-score': 0.8952919989709287, 'support': 9790}, 'accuracy': 0.9271444937705857, 'macro avg': {'precision': 0.9212082944644238, 'recall': 0.9182864124117209, 'f1-score': 0.9197149555369617, 'support': 27932}, 'weighted avg': {'precision': 0.9269452924515869, 'recall': 0.9271444937705857, 'f1-score': 0.9270177098416842, 'support': 27932}}\n"
     ]
    }
   ],
   "source": [
    "report = classification_report(y, m3, output_dict=True)\n",
    "print(report)"
   ]
  },
  {
   "cell_type": "code",
   "execution_count": 13,
   "id": "d657f89a",
   "metadata": {},
   "outputs": [
    {
     "data": {
      "image/png": "[encoded data removed]",
      "text/plain": [
       "<Figure size 600x600 with 2 Axes>"
      ]
     },
     "metadata": {},
     "output_type": "display_data"
    }
   ],
   "source": [
    "cm3 = confusion_matrix(y, m3)\n",
    "# Define the class labels\n",
    "class_labels = [\"Not Pedestrian\", \"Pedestrian\"]\n",
    "\n",
    "# Plot the confusion matrix\n",
    "plt.figure(figsize=(6, 6))\n",
    "sns.heatmap(cm3, annot=True, fmt=\"d\", cmap=\"Reds\", xticklabels=class_labels, yticklabels=class_labels)\n",
    "\n",
    "# Add labels, title, and axis ticks\n",
    "plt.xlabel(\"Predicted Label\")\n",
    "plt.ylabel(\"True Label\")\n",
    "plt.title(\"Confusion Matrix for M1\")\n",
    "plt.xticks(np.arange(len(class_labels)) + 0.5, class_labels)\n",
    "plt.yticks(np.arange(len(class_labels)) + 0.5, class_labels)\n",
    "\n",
    "# Show the plot\n",
    "plt.show()"
   ]
  },
  {
   "cell_type": "markdown",
   "id": "38368f3f",
   "metadata": {},
   "source": [
    "## M4"
   ]
  },
  {
   "cell_type": "code",
   "execution_count": 20,
   "id": "39f1dba5",
   "metadata": {},
   "outputs": [],
   "source": [
    "m4 = df['m4']"
   ]
  },
  {
   "cell_type": "code",
   "execution_count": 21,
   "id": "605b535c",
   "metadata": {},
   "outputs": [
    {
     "name": "stdout",
     "output_type": "stream",
     "text": [
      "              precision    recall  f1-score   support\n",
      "\n",
      "  not_person       0.95      0.96      0.95     18142\n",
      "      person       0.92      0.90      0.91      9790\n",
      "\n",
      "    accuracy                           0.94     27932\n",
      "   macro avg       0.93      0.93      0.93     27932\n",
      "weighted avg       0.94      0.94      0.94     27932\n",
      "\n"
     ]
    }
   ],
   "source": [
    "print(classification_report(y, m4))"
   ]
  },
  {
   "cell_type": "code",
   "execution_count": 22,
   "id": "5f8c2181",
   "metadata": {},
   "outputs": [
    {
     "name": "stdout",
     "output_type": "stream",
     "text": [
      "{'not_person': {'precision': 0.9472020923009862, 'recall': 0.9582184985117407, 'f1-score': 0.9526784491026168, 'support': 18142}, 'person': {'precision': 0.9208685666562272, 'recall': 0.9010214504596528, 'f1-score': 0.910836904331664, 'support': 9790}, 'accuracy': 0.9381712730917944, 'macro avg': {'precision': 0.9340353294786067, 'recall': 0.9296199744856968, 'f1-score': 0.9317576767171404, 'support': 27932}, 'weighted avg': {'precision': 0.937972348062758, 'recall': 0.9381712730917944, 'f1-score': 0.9380132363248842, 'support': 27932}}\n"
     ]
    }
   ],
   "source": [
    "report = classification_report(y, m4, output_dict=True)\n",
    "print(report)"
   ]
  },
  {
   "cell_type": "code",
   "execution_count": null,
   "id": "4ccbae17",
   "metadata": {},
   "outputs": [],
   "source": [
    "cm4 = confusion_matrix(y, m3)\n",
    "# Define the class labels\n",
    "class_labels = [\"Not Pedestrian\", \"Pedestrian\"]\n",
    "\n",
    "# Plot the confusion matrix\n",
    "plt.figure(figsize=(6, 6))\n",
    "sns.heatmap(cm4, annot=True, fmt=\"d\", cmap=\"Reds\", xticklabels=class_labels, yticklabels=class_labels)\n",
    "\n",
    "# Add labels, title, and axis ticks\n",
    "plt.xlabel(\"Predicted Label\")\n",
    "plt.ylabel(\"True Label\")\n",
    "plt.title(\"Confusion Matrix for M1\")\n",
    "plt.xticks(np.arange(len(class_labels)) + 0.5, class_labels)\n",
    "plt.yticks(np.arange(len(class_labels)) + 0.5, class_labels)\n",
    "\n",
    "# Show the plot\n",
    "plt.show()"
   ]
  },
  {
   "cell_type": "markdown",
   "id": "0d21c92f",
   "metadata": {},
   "source": [
    "## M5"
   ]
  },
  {
   "cell_type": "code",
   "execution_count": 23,
   "id": "5bc779e9",
   "metadata": {},
   "outputs": [],
   "source": [
    "m5 = df['m5']"
   ]
  },
  {
   "cell_type": "code",
   "execution_count": 24,
   "id": "0042fcf4",
   "metadata": {},
   "outputs": [
    {
     "name": "stdout",
     "output_type": "stream",
     "text": [
      "              precision    recall  f1-score   support\n",
      "\n",
      "  not_person       0.95      0.97      0.96     18142\n",
      "      person       0.94      0.91      0.92      9790\n",
      "\n",
      "    accuracy                           0.95     27932\n",
      "   macro avg       0.95      0.94      0.94     27932\n",
      "weighted avg       0.95      0.95      0.95     27932\n",
      "\n"
     ]
    }
   ],
   "source": [
    "print(classification_report(y, m5))"
   ]
  },
  {
   "cell_type": "code",
   "execution_count": 26,
   "id": "2cdd9474",
   "metadata": {},
   "outputs": [
    {
     "name": "stdout",
     "output_type": "stream",
     "text": [
      "{'not_person': {'precision': 0.9508436080467229, 'recall': 0.9691875206702679, 'f1-score': 0.9599279357973467, 'support': 18142}, 'person': {'precision': 0.9407838983050848, 'recall': 0.907150153217569, 'f1-score': 0.9236609464378576, 'support': 9790}, 'accuracy': 0.9474437920664471, 'macro avg': {'precision': 0.9458137531759039, 'recall': 0.9381688369439185, 'f1-score': 0.9417944411176021, 'support': 27932}, 'weighted avg': {'precision': 0.9473177395671784, 'recall': 0.9474437920664471, 'f1-score': 0.9472165715617246, 'support': 27932}}\n"
     ]
    }
   ],
   "source": [
    "report = classification_report(y, m5, output_dict=True)\n",
    "print(report)"
   ]
  },
  {
   "cell_type": "code",
   "execution_count": null,
   "id": "47a66a9a",
   "metadata": {},
   "outputs": [],
   "source": [
    "cm5 = confusion_matrix(y, m5)\n",
    "# Define the class labels\n",
    "class_labels = [\"Not Pedestrian\", \"Pedestrian\"]\n",
    "\n",
    "# Plot the confusion matrix\n",
    "plt.figure(figsize=(6, 6))\n",
    "sns.heatmap(cm5, annot=True, fmt=\"d\", cmap=\"Reds\", xticklabels=class_labels, yticklabels=class_labels)\n",
    "\n",
    "# Add labels, title, and axis ticks\n",
    "plt.xlabel(\"Predicted Label\")\n",
    "plt.ylabel(\"True Label\")\n",
    "plt.title(\"Confusion Matrix for M1\")\n",
    "plt.xticks(np.arange(len(class_labels)) + 0.5, class_labels)\n",
    "plt.yticks(np.arange(len(class_labels)) + 0.5, class_labels)\n",
    "\n",
    "# Show the plot\n",
    "plt.show()"
   ]
  },
  {
   "cell_type": "markdown",
   "id": "a6f0e964",
   "metadata": {},
   "source": [
    "## M6"
   ]
  },
  {
   "cell_type": "code",
   "execution_count": 27,
   "id": "ce271729",
   "metadata": {},
   "outputs": [],
   "source": [
    "m6 = df['m6']"
   ]
  },
  {
   "cell_type": "code",
   "execution_count": 28,
   "id": "8205db4f",
   "metadata": {},
   "outputs": [
    {
     "name": "stdout",
     "output_type": "stream",
     "text": [
      "              precision    recall  f1-score   support\n",
      "\n",
      "  not_person       0.95      0.96      0.96     18142\n",
      "      person       0.93      0.90      0.91      9790\n",
      "\n",
      "    accuracy                           0.94     27932\n",
      "   macro avg       0.94      0.93      0.93     27932\n",
      "weighted avg       0.94      0.94      0.94     27932\n",
      "\n"
     ]
    }
   ],
   "source": [
    "print(classification_report(y, m6))"
   ]
  },
  {
   "cell_type": "code",
   "execution_count": 29,
   "id": "53e5b47e",
   "metadata": {},
   "outputs": [
    {
     "name": "stdout",
     "output_type": "stream",
     "text": [
      "{'not_person': {'precision': 0.9454015229248799, 'recall': 0.9649432256642047, 'f1-score': 0.9550724242341581, 'support': 18142}, 'person': {'precision': 0.9324482209240573, 'recall': 0.8967313585291113, 'f1-score': 0.9142410830512887, 'support': 9790}, 'accuracy': 0.9410353716167836, 'macro avg': {'precision': 0.9389248719244686, 'recall': 0.930837292096658, 'f1-score': 0.9346567536427234, 'support': 27932}, 'weighted avg': {'precision': 0.9408614675551228, 'recall': 0.9410353716167836, 'f1-score': 0.9407612818104043, 'support': 27932}}\n"
     ]
    }
   ],
   "source": [
    "report = classification_report(y, m6, output_dict=True)\n",
    "print(report)"
   ]
  },
  {
   "cell_type": "code",
   "execution_count": null,
   "id": "ae1a9d05",
   "metadata": {
    "pycharm": {
     "name": "#%%\n"
    }
   },
   "outputs": [],
   "source": [
    "cm6 = confusion_matrix(y, m6)\n",
    "# Define the class labels\n",
    "class_labels = [\"Not Pedestrian\", \"Pedestrian\"]\n",
    "\n",
    "# Plot the confusion matrix\n",
    "plt.figure(figsize=(6, 6))\n",
    "sns.heatmap(cm6, annot=True, fmt=\"d\", cmap=\"Reds\", xticklabels=class_labels, yticklabels=class_labels)\n",
    "\n",
    "# Add labels, title, and axis ticks\n",
    "plt.xlabel(\"Predicted Label\")\n",
    "plt.ylabel(\"True Label\")\n",
    "plt.title(\"Confusion Matrix for M1\")\n",
    "plt.xticks(np.arange(len(class_labels)) + 0.5, class_labels)\n",
    "plt.yticks(np.arange(len(class_labels)) + 0.5, class_labels)\n",
    "\n",
    "# Show the plot\n",
    "plt.show()\n",
    "\n"
   ]
  }
 ],
 "metadata": {
  "kernelspec": {
   "display_name": "Python 3 (ipykernel)",
   "language": "python",
   "name": "python3"
  },
  "language_info": {
   "codemirror_mode": {
    "name": "ipython",
    "version": 3
   },
   "file_extension": ".py",
   "mimetype": "text/x-python",
   "name": "python",
   "nbconvert_exporter": "python",
   "pygments_lexer": "ipython3",
   "version": "3.8.16"
  },
  "varInspector": {
   "cols": {
    "lenName": 16,
    "lenType": 16,
    "lenVar": 40
   },
   "kernels_config": {
    "python": {
     "delete_cmd_postfix": "",
     "delete_cmd_prefix": "del ",
     "library": "var_list.py",
     "varRefreshCmd": "print(var_dic_list())"
    },
    "r": {
     "delete_cmd_postfix": ") ",
     "delete_cmd_prefix": "rm(",
     "library": "var_list.r",
     "varRefreshCmd": "cat(var_dic_list()) "
    }
   },
   "types_to_exclude": [
    "module",
    "function",
    "builtin_function_or_method",
    "instance",
    "_Feature"
   ],
   "window_display": false
  }
 },
 "nbformat": 4,
 "nbformat_minor": 5
}